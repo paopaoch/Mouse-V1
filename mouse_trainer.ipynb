{
 "cells": [
  {
   "cell_type": "code",
   "execution_count": 1,
   "metadata": {},
   "outputs": [],
   "source": [
    "import pandas as pd\n",
    "import numpy as np\n",
    "import matplotlib.pyplot as plt\n",
    "import matplotlib.patches as mpatches\n",
    "\n",
    "import mouse_utils as mu\n",
    "import torch\n",
    "from tqdm import tqdm"
   ]
  },
  {
   "cell_type": "code",
   "execution_count": 2,
   "metadata": {},
   "outputs": [
    {
     "name": "stderr",
     "output_type": "stream",
     "text": [
      "/var/folders/78/9j91h4q516z7774553xzp19m0000gn/T/ipykernel_56958/1363506803.py:1: DtypeWarning: Columns (11) have mixed types. Specify dtype option on import or set low_memory=False.\n",
      "  df = pd.read_csv(\"./data/K-Data.csv\")\n",
      "/var/folders/78/9j91h4q516z7774553xzp19m0000gn/T/ipykernel_56958/1363506803.py:36: FutureWarning: The default value of numeric_only in DataFrameGroupBy.mean is deprecated. In a future version, numeric_only will default to False. Either specify numeric_only or select only columns which should be valid for the function.\n",
      "  v1 = v1.groupby([\"mouse_unit\", \"grat_orientation\", \"grat_contrast\", \"grat_spat_freq\", \"grat_phase\"]).mean().reset_index()\n",
      "186624it [00:04, 44334.66it/s]\n"
     ]
    }
   ],
   "source": [
    "df = pd.read_csv(\"./data/K-Data.csv\")\n",
    "\n",
    "\n",
    "# v1 = df.query(\"region == 'V1'\")\n",
    "# m = v1.m.unique()[2]\n",
    "# v1_data = v1[v1.m == m]\n",
    "# # v1_data = v1_data.query(\"grat_spat_freq == 0.332966\").query(\"grat_phase == [180]\")\n",
    "# v1_data = v1_data[['u', 'unit_type', 'grat_orientation', 'grat_contrast', 'response', 'smoothed_response']].reset_index(drop=True)\n",
    "# v1_data = v1_data.groupby(['unit_type','u', 'grat_contrast', 'grat_orientation'], as_index=False).mean()\n",
    "\n",
    "\n",
    "# # Get unique values for each column\n",
    "# unique_u = v1_data['u'].unique()\n",
    "# unique_contrast = v1_data['grat_contrast'].unique()\n",
    "# unique_orientation = v1_data['grat_orientation'].unique()\n",
    "\n",
    "\n",
    "# # Create a 3D numpy array filled with NaN values\n",
    "# shape = (len(unique_u), len(unique_contrast), len(unique_orientation))\n",
    "# result_array = np.full(shape, np.nan)\n",
    "\n",
    "\n",
    "# # Iterate through the DataFrame and fill the array\n",
    "# for index, row in v1_data.iterrows():\n",
    "#     u_index = np.where(unique_u == row['u'])[0][0]\n",
    "#     contrast_index = np.where(unique_contrast == row['grat_contrast'])[0][0]\n",
    "#     orientation_index = np.where(unique_orientation == row['grat_orientation'])[0][0]\n",
    "    \n",
    "#     result_array[u_index, contrast_index, orientation_index] = row['response']\n",
    "\n",
    "v1 = df.query(\"region == 'V1'\")\n",
    "m = v1.m.unique()[2]\n",
    "v1 = v1[v1.m == m] # take for all mice later\n",
    "v1 = v1.copy()  # to prevent warning\n",
    "v1[\"mouse_unit\"] = v1[\"m\"] + \"_\" + v1[\"u\"].astype(str)\n",
    "v1 = v1.groupby([\"mouse_unit\", \"grat_orientation\", \"grat_contrast\", \"grat_spat_freq\", \"grat_phase\"]).mean().reset_index()\n",
    "v1 = v1[[\"mouse_unit\", \"grat_orientation\", \"grat_contrast\", \"grat_spat_freq\", \"grat_phase\", \"response\"]]\n",
    "\n",
    "unique_units = v1['mouse_unit'].unique()\n",
    "unique_orientation = v1['grat_orientation'].unique()\n",
    "unique_contrast = v1['grat_contrast'].unique()\n",
    "unique_spat_freq = v1['grat_spat_freq'].unique()\n",
    "unique_phase = v1['grat_phase'].unique()\n",
    "\n",
    "shape = (len(unique_units), len(unique_orientation), len(unique_contrast), len(unique_spat_freq), len(unique_phase))\n",
    "result_array = np.full(shape, np.nan)\n",
    "\n",
    "# Iterate through the DataFrame and fill the array\n",
    "for index, row in tqdm(v1.iterrows()):\n",
    "    u_index = np.where(unique_units == row['mouse_unit'])[0][0]\n",
    "    orientation_index = np.where(unique_orientation == row['grat_orientation'])[0][0]\n",
    "    contrast_index = np.where(unique_contrast == row['grat_contrast'])[0][0]\n",
    "    spat_freq_index = np.where(unique_spat_freq == row['grat_spat_freq'])[0][0]\n",
    "    phase_index = np.where(unique_phase == row['grat_phase'])[0][0]\n",
    "    result_array[u_index, orientation_index, contrast_index, spat_freq_index, phase_index] = row['response']\n",
    "\n",
    "result_array = np.mean(np.mean(result_array, axis=4), axis=3)\n",
    "result_array = result_array.transpose((0, 2, 1))\n",
    "result_array = result_array * 1000\n"
   ]
  },
  {
   "cell_type": "code",
   "execution_count": 3,
   "metadata": {},
   "outputs": [
    {
     "name": "stdout",
     "output_type": "stream",
     "text": [
      "GPU not available. Keeping the model on CPU.\n",
      "finished all orientations and contrasts\n",
      "Computed loss tensor(3.4177, dtype=torch.float64, grad_fn=<AddBackward0>)\n"
     ]
    },
    {
     "ename": "",
     "evalue": "",
     "output_type": "error",
     "traceback": [
      "\u001b[1;31mThe Kernel crashed while executing code in the the current cell or a previous cell. Please review the code in the cell(s) to identify a possible cause of the failure. Click <a href='https://aka.ms/vscodeJupyterKernelCrash'>here</a> for more info. View Jupyter <a href='command:jupyter.viewOutput'>log</a> for further details."
     ]
    }
   ],
   "source": [
    "\n",
    "# J_array = [1.99, 1.9, 1.01, 0.79]  # Need to make parameters of an exponential\n",
    "# P_array = [0.11, 0.11, 0.45, 0.45]\n",
    "# w_array = [32., 32., 32., 32.]\n",
    "\n",
    "\n",
    "# J_array = [0.69, 0.64, 0., -0.29] # Max log values\n",
    "# P_array = [-2.21, -2.21, -0.8, -0.8]\n",
    "# w_array = [3.46, 3.46, 3.46, 3.46]\n",
    "\n",
    "J_array = [0, -0.29, 0.69, -0.64] # Keen log values\n",
    "P_array = [-0.8, -2.21, -2.21, -0.8]\n",
    "w_array = [3.46, 3.46, 3.46, 3.46]\n",
    "\n",
    "# J_array = [-5.1707, -0.0277,  0.9482,  0.1585]\n",
    "# P_array = [-6.1361, -1.9772,  0.8548,  1.2384]\n",
    "# w_array = [0.3990, 3.6245, 4.1893, 3.6955]\n",
    "\n",
    "# J_array = [0.69, 0.64, 0., -0.29]\n",
    "# P_array = [-1.21, -1.21, -0.8, -0.8]\n",
    "# w_array = [3.46, 3.46, 3.46, 3.46]\n",
    "\n",
    "# J_array = [9.04e-02, 3.82e-05, 7.62e-5, 2.52]\n",
    "# P_array = [1.93e-02,  8.78,  1.79e-04,  2.85]\n",
    "# w_array = [8.78, 166, 1.23e-2, 1.81e2]\n",
    "\n",
    "\n",
    "# J_array = [-1.5734, -0.20967, 0.472169, -0.6607]  # JAX minima \n",
    "# P_array = [-2.2163,  -2.2553,  -2.4399,  -0.8935]\n",
    "# w_array = [2.054, 3.5095, 3.3344, 3.47027]\n",
    "\n",
    "\n",
    "\n",
    "\n",
    "model = mu.NeuroNN(J_array, P_array, w_array, 2000)\n",
    "if torch.cuda.is_available():\n",
    "    model = model.to('cuda')\n",
    "    print(\"Model moved to GPU.\")\n",
    "else:\n",
    "    print(\"GPU not available. Keeping the model on CPU.\")\n",
    "\n",
    "optimizer = torch.optim.SGD(model.parameters(), lr=0.01)\n",
    "\n",
    "mu.training_loop(model, optimizer, result_array)"
   ]
  },
  {
   "cell_type": "code",
   "execution_count": null,
   "metadata": {},
   "outputs": [
    {
     "name": "stdout",
     "output_type": "stream",
     "text": [
      "Parameter containing:\n",
      "tensor([-0.3354, -0.2849,  0.7096, -0.6413], requires_grad=True)\n",
      "Parameter containing:\n",
      "tensor([-1.2263, -2.2085, -2.2046, -0.8021], requires_grad=True)\n",
      "Parameter containing:\n",
      "tensor([3.2483, 3.4606, 3.4629, 3.4590], requires_grad=True)\n"
     ]
    }
   ],
   "source": [
    "for param in model.parameters():\n",
    "    print(param)"
   ]
  },
  {
   "cell_type": "code",
   "execution_count": null,
   "metadata": {},
   "outputs": [],
   "source": []
  }
 ],
 "metadata": {
  "kernelspec": {
   "display_name": "base",
   "language": "python",
   "name": "python3"
  },
  "language_info": {
   "codemirror_mode": {
    "name": "ipython",
    "version": 3
   },
   "file_extension": ".py",
   "mimetype": "text/x-python",
   "name": "python",
   "nbconvert_exporter": "python",
   "pygments_lexer": "ipython3",
   "version": "3.11.3"
  }
 },
 "nbformat": 4,
 "nbformat_minor": 2
}
