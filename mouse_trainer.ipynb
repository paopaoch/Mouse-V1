{
 "cells": [
  {
   "cell_type": "code",
   "execution_count": 1,
   "metadata": {},
   "outputs": [],
   "source": [
    "import pandas as pd\n",
    "import numpy as np\n",
    "import matplotlib.pyplot as plt\n",
    "import matplotlib.patches as mpatches\n",
    "\n",
    "import mouse_utils as mu\n",
    "import torch\n",
    "from tqdm import tqdm"
   ]
  },
  {
   "cell_type": "code",
   "execution_count": 2,
   "metadata": {},
   "outputs": [
    {
     "name": "stderr",
     "output_type": "stream",
     "text": [
      "/var/folders/78/9j91h4q516z7774553xzp19m0000gn/T/ipykernel_6890/3872892955.py:1: DtypeWarning: Columns (11) have mixed types. Specify dtype option on import or set low_memory=False.\n",
      "  df = pd.read_csv(\"./data/K-Data.csv\")\n",
      "/var/folders/78/9j91h4q516z7774553xzp19m0000gn/T/ipykernel_6890/3872892955.py:8: FutureWarning: The default value of numeric_only in DataFrameGroupBy.mean is deprecated. In a future version, numeric_only will default to False. Either specify numeric_only or select only columns which should be valid for the function.\n",
      "  v1 = v1.groupby([\"mouse_unit\", \"grat_orientation\", \"grat_contrast\", \"grat_spat_freq\", \"grat_phase\"]).mean().reset_index()\n",
      "186624it [00:04, 44398.67it/s]\n"
     ]
    }
   ],
   "source": [
    "df = pd.read_csv(\"./data/K-Data.csv\")\n",
    "\n",
    "v1 = df.query(\"region == 'V1'\")\n",
    "m = v1.m.unique()[2]\n",
    "v1 = v1[v1.m == m] # take for all mice later\n",
    "v1 = v1.copy()  # to prevent warning\n",
    "v1[\"mouse_unit\"] = v1[\"m\"] + \"_\" + v1[\"u\"].astype(str)\n",
    "v1 = v1.groupby([\"mouse_unit\", \"grat_orientation\", \"grat_contrast\", \"grat_spat_freq\", \"grat_phase\"]).mean().reset_index()\n",
    "v1 = v1[[\"mouse_unit\", \"grat_orientation\", \"grat_contrast\", \"grat_spat_freq\", \"grat_phase\", \"response\"]]\n",
    "\n",
    "unique_units = v1['mouse_unit'].unique()\n",
    "unique_orientation = v1['grat_orientation'].unique()\n",
    "unique_contrast = v1['grat_contrast'].unique()\n",
    "unique_spat_freq = v1['grat_spat_freq'].unique()\n",
    "unique_phase = v1['grat_phase'].unique()\n",
    "\n",
    "shape = (len(unique_units), len(unique_orientation), len(unique_contrast), len(unique_spat_freq), len(unique_phase))\n",
    "result_array = np.full(shape, np.nan)\n",
    "\n",
    "# Iterate through the DataFrame and fill the array\n",
    "for index, row in tqdm(v1.iterrows()):\n",
    "    u_index = np.where(unique_units == row['mouse_unit'])[0][0]\n",
    "    orientation_index = np.where(unique_orientation == row['grat_orientation'])[0][0]\n",
    "    contrast_index = np.where(unique_contrast == row['grat_contrast'])[0][0]\n",
    "    spat_freq_index = np.where(unique_spat_freq == row['grat_spat_freq'])[0][0]\n",
    "    phase_index = np.where(unique_phase == row['grat_phase'])[0][0]\n",
    "    result_array[u_index, orientation_index, contrast_index, spat_freq_index, phase_index] = row['response']\n",
    "\n",
    "result_array = np.mean(np.mean(result_array, axis=4), axis=3)\n",
    "result_array = result_array.transpose((0, 2, 1))\n",
    "result_array = result_array * 1000\n",
    "\n",
    "result_array = torch.tensor(result_array)"
   ]
  },
  {
   "cell_type": "code",
   "execution_count": 3,
   "metadata": {},
   "outputs": [],
   "source": [
    "\n",
    "# # J_array = [1.99, 1.9, 1.01, 0.79]  # Need to make parameters of an exponential\n",
    "# # P_array = [0.11, 0.11, 0.45, 0.45]\n",
    "# # w_array = [32., 32., 32., 32.]\n",
    "\n",
    "\n",
    "# # J_array = [0.69, 0.64, 0., -0.29] # Max log values\n",
    "# # P_array = [-2.21, -2.21, -0.8, -0.8]\n",
    "# # w_array = [3.46, 3.46, 3.46, 3.46]\n",
    "\n",
    "# J_array = [0, -0.29, 0.69, -0.64] # Keen log values\n",
    "# P_array = [-0.8, -2.21, -2.21, -0.8]\n",
    "# w_array = [3.46, 3.46, 3.46, 3.46]\n",
    "\n",
    "# # J_array = [-5.1707, -0.0277,  0.9482,  0.1585]\n",
    "# # P_array = [-6.1361, -1.9772,  0.8548,  1.2384]\n",
    "# # w_array = [0.3990, 3.6245, 4.1893, 3.6955]\n",
    "\n",
    "# # J_array = [0.69, 0.64, 0., -0.29]\n",
    "# # P_array = [-1.21, -1.21, -0.8, -0.8]\n",
    "# # w_array = [3.46, 3.46, 3.46, 3.46]\n",
    "\n",
    "# # J_array = [9.04e-02, 3.82e-05, 7.62e-5, 2.52]\n",
    "# # P_array = [1.93e-02,  8.78,  1.79e-04,  2.85]\n",
    "# # w_array = [8.78, 166, 1.23e-2, 1.81e2]\n",
    "\n",
    "\n",
    "# # J_array = [-1.5734, -0.20967, 0.472169, -0.6607]  # JAX minima \n",
    "# # P_array = [-2.2163,  -2.2553,  -2.4399,  -0.8935]\n",
    "# # w_array = [2.054, 3.5095, 3.3344, 3.47027]\n",
    "\n",
    "\n",
    "\n",
    "\n",
    "# model = mu.NeuroNN(J_array, P_array, w_array, 4000)\n",
    "# if torch.cuda.is_available():\n",
    "#     model = model.to('cuda')\n",
    "#     print(\"Model moved to GPU.\")\n",
    "# else:\n",
    "#     print(\"GPU not available. Keeping the model on CPU.\")\n",
    "\n",
    "# optimizer = torch.optim.SGD(model.parameters(), lr=0.1)\n",
    "\n",
    "# mu.training_loop(model, optimizer, result_array)"
   ]
  },
  {
   "cell_type": "code",
   "execution_count": 5,
   "metadata": {},
   "outputs": [
    {
     "name": "stdout",
     "output_type": "stream",
     "text": [
      "GPU not available. Keeping the model on CPU.\n",
      "Generated a W matrix\n",
      "finished all orientations and contrasts torch.Size([2000, 8, 12])\n",
      "Calculating MMD loss\n",
      "tensor(0.0213) tensor(0.0126, dtype=torch.float64) tensor(8.9942e-25, dtype=torch.float64)\n",
      "Computed loss\n",
      "DONE 0\n",
      "Generated a W matrix\n",
      "finished all orientations and contrasts torch.Size([2000, 8, 12])\n",
      "Calculating MMD loss\n",
      "tensor(0.0212) tensor(0.0126, dtype=torch.float64) tensor(9.0682e-25, dtype=torch.float64)\n",
      "Computed loss\n",
      "DONE 1\n",
      "Generated a W matrix\n"
     ]
    },
    {
     "ename": "KeyboardInterrupt",
     "evalue": "",
     "output_type": "error",
     "traceback": [
      "\u001b[0;31m---------------------------------------------------------------------------\u001b[0m",
      "\u001b[0;31mKeyboardInterrupt\u001b[0m                         Traceback (most recent call last)",
      "\u001b[1;32m/Users/paopao_ch/Documents/projects/v1_modelling/Mouse-V1-Pytorch/mouse_trainer.ipynb Cell 4\u001b[0m line \u001b[0;36m1\n\u001b[1;32m     <a href='vscode-notebook-cell:/Users/paopao_ch/Documents/projects/v1_modelling/Mouse-V1-Pytorch/mouse_trainer.ipynb#W3sZmlsZQ%3D%3D?line=13'>14</a>\u001b[0m \u001b[39melse\u001b[39;00m:\n\u001b[1;32m     <a href='vscode-notebook-cell:/Users/paopao_ch/Documents/projects/v1_modelling/Mouse-V1-Pytorch/mouse_trainer.ipynb#W3sZmlsZQ%3D%3D?line=14'>15</a>\u001b[0m     \u001b[39mprint\u001b[39m(\u001b[39m\"\u001b[39m\u001b[39mGPU not available. Keeping the model on CPU.\u001b[39m\u001b[39m\"\u001b[39m)\n\u001b[0;32m---> <a href='vscode-notebook-cell:/Users/paopao_ch/Documents/projects/v1_modelling/Mouse-V1-Pytorch/mouse_trainer.ipynb#W3sZmlsZQ%3D%3D?line=16'>17</a>\u001b[0m mu\u001b[39m.\u001b[39mtraining_loop_no_backwards(model, result_array)\n",
      "File \u001b[0;32m~/Documents/projects/v1_modelling/Mouse-V1-Pytorch/mouse_utils.py:358\u001b[0m, in \u001b[0;36mtraining_loop_no_backwards\u001b[0;34m(model, Y, n, device)\u001b[0m\n\u001b[1;32m    355\u001b[0m model\u001b[39m.\u001b[39mtrain()\n\u001b[1;32m    357\u001b[0m \u001b[39mfor\u001b[39;00m i \u001b[39min\u001b[39;00m \u001b[39mrange\u001b[39m(n):\n\u001b[0;32m--> 358\u001b[0m     preds, avg_step \u001b[39m=\u001b[39m model()\n\u001b[1;32m    359\u001b[0m     loss \u001b[39m=\u001b[39m loss_function(preds, Y, avg_step)\n\u001b[1;32m    360\u001b[0m     \u001b[39mprint\u001b[39m(\u001b[39m\"\u001b[39m\u001b[39mComputed loss\u001b[39m\u001b[39m\"\u001b[39m)\n",
      "File \u001b[0;32m~/anaconda3/lib/python3.11/site-packages/torch/nn/modules/module.py:1501\u001b[0m, in \u001b[0;36mModule._call_impl\u001b[0;34m(self, *args, **kwargs)\u001b[0m\n\u001b[1;32m   1496\u001b[0m \u001b[39m# If we don't have any hooks, we want to skip the rest of the logic in\u001b[39;00m\n\u001b[1;32m   1497\u001b[0m \u001b[39m# this function, and just call forward.\u001b[39;00m\n\u001b[1;32m   1498\u001b[0m \u001b[39mif\u001b[39;00m \u001b[39mnot\u001b[39;00m (\u001b[39mself\u001b[39m\u001b[39m.\u001b[39m_backward_hooks \u001b[39mor\u001b[39;00m \u001b[39mself\u001b[39m\u001b[39m.\u001b[39m_backward_pre_hooks \u001b[39mor\u001b[39;00m \u001b[39mself\u001b[39m\u001b[39m.\u001b[39m_forward_hooks \u001b[39mor\u001b[39;00m \u001b[39mself\u001b[39m\u001b[39m.\u001b[39m_forward_pre_hooks\n\u001b[1;32m   1499\u001b[0m         \u001b[39mor\u001b[39;00m _global_backward_pre_hooks \u001b[39mor\u001b[39;00m _global_backward_hooks\n\u001b[1;32m   1500\u001b[0m         \u001b[39mor\u001b[39;00m _global_forward_hooks \u001b[39mor\u001b[39;00m _global_forward_pre_hooks):\n\u001b[0;32m-> 1501\u001b[0m     \u001b[39mreturn\u001b[39;00m forward_call(\u001b[39m*\u001b[39margs, \u001b[39m*\u001b[39m\u001b[39m*\u001b[39mkwargs)\n\u001b[1;32m   1502\u001b[0m \u001b[39m# Do not call functions when jit is used\u001b[39;00m\n\u001b[1;32m   1503\u001b[0m full_backward_hooks, non_full_backward_hooks \u001b[39m=\u001b[39m [], []\n",
      "File \u001b[0;32m~/Documents/projects/v1_modelling/Mouse-V1-Pytorch/mouse_utils.py:125\u001b[0m, in \u001b[0;36mNeuroNN.forward\u001b[0;34m(self)\u001b[0m\n\u001b[1;32m    123\u001b[0m \u001b[39mself\u001b[39m\u001b[39m.\u001b[39mupdate_weight_matrix()\n\u001b[1;32m    124\u001b[0m \u001b[39mprint\u001b[39m(\u001b[39m\"\u001b[39m\u001b[39mGenerated a W matrix\u001b[39m\u001b[39m\"\u001b[39m)\n\u001b[0;32m--> 125\u001b[0m tuning_curves, avg_step \u001b[39m=\u001b[39m \u001b[39mself\u001b[39m\u001b[39m.\u001b[39mrun_all_orientation_and_contrast()\n\u001b[1;32m    126\u001b[0m \u001b[39mreturn\u001b[39;00m tuning_curves, avg_step\n",
      "File \u001b[0;32m~/Documents/projects/v1_modelling/Mouse-V1-Pytorch/mouse_utils.py:218\u001b[0m, in \u001b[0;36mNeuroNN.run_all_orientation_and_contrast\u001b[0;34m(self)\u001b[0m\n\u001b[1;32m    216\u001b[0m steady_states \u001b[39m=\u001b[39m []\n\u001b[1;32m    217\u001b[0m \u001b[39mfor\u001b[39;00m orientation \u001b[39min\u001b[39;00m \u001b[39mself\u001b[39m\u001b[39m.\u001b[39morientations:\n\u001b[0;32m--> 218\u001b[0m     rate, avg_step \u001b[39m=\u001b[39m \u001b[39mself\u001b[39m\u001b[39m.\u001b[39mget_steady_state_output(contrast, orientation)\n\u001b[1;32m    219\u001b[0m     steady_states\u001b[39m.\u001b[39mappend(rate)\n\u001b[1;32m    220\u001b[0m     avg_step_sum \u001b[39m=\u001b[39m avg_step_sum \u001b[39m+\u001b[39m avg_step\n",
      "File \u001b[0;32m~/Documents/projects/v1_modelling/Mouse-V1-Pytorch/mouse_utils.py:178\u001b[0m, in \u001b[0;36mNeuroNN.get_steady_state_output\u001b[0;34m(self, contrast, grating_orientations)\u001b[0m\n\u001b[1;32m    176\u001b[0m \u001b[39mdef\u001b[39;00m \u001b[39mget_steady_state_output\u001b[39m(\u001b[39mself\u001b[39m, contrast, grating_orientations):\n\u001b[1;32m    177\u001b[0m     \u001b[39mself\u001b[39m\u001b[39m.\u001b[39m_stim_to_inputs(contrast, grating_orientations, \u001b[39mself\u001b[39m\u001b[39m.\u001b[39mpref)\n\u001b[0;32m--> 178\u001b[0m     r_fp, avg_step \u001b[39m=\u001b[39m \u001b[39mself\u001b[39m\u001b[39m.\u001b[39m_solve_fixed_point()\n\u001b[1;32m    179\u001b[0m     \u001b[39mreturn\u001b[39;00m r_fp, avg_step\n",
      "File \u001b[0;32m~/Documents/projects/v1_modelling/Mouse-V1-Pytorch/mouse_utils.py:204\u001b[0m, in \u001b[0;36mNeuroNN._solve_fixed_point\u001b[0;34m(self)\u001b[0m\n\u001b[1;32m    202\u001b[0m r_init \u001b[39m=\u001b[39m torch\u001b[39m.\u001b[39mzeros(\u001b[39mself\u001b[39m\u001b[39m.\u001b[39mneuron_num, device\u001b[39m=\u001b[39m\u001b[39mself\u001b[39m\u001b[39m.\u001b[39mdevice) \u001b[39m# Need to change this to a matrix\u001b[39;00m\n\u001b[1;32m    203\u001b[0m \u001b[39m# Solve using Euler\u001b[39;00m\n\u001b[0;32m--> 204\u001b[0m r_fp, avg_step \u001b[39m=\u001b[39m \u001b[39mself\u001b[39m\u001b[39m.\u001b[39meuler2fixedpt(r_init)\n\u001b[1;32m    205\u001b[0m \u001b[39mreturn\u001b[39;00m r_fp, avg_step\n",
      "File \u001b[0;32m~/Documents/projects/v1_modelling/Mouse-V1-Pytorch/mouse_utils.py:258\u001b[0m, in \u001b[0;36mNeuroNN.euler2fixedpt\u001b[0;34m(self, x_initial, Nmax, Navg, dt, xtol, xmin)\u001b[0m\n\u001b[1;32m    255\u001b[0m     \u001b[39m# res.append(xvec[50].item())\u001b[39;00m\n\u001b[1;32m    257\u001b[0m \u001b[39mfor\u001b[39;00m _ \u001b[39min\u001b[39;00m \u001b[39mrange\u001b[39m(Navg):  \u001b[39m# Loop whilst recording average step size\u001b[39;00m\n\u001b[0;32m--> 258\u001b[0m     \u001b[39mself\u001b[39m\u001b[39m.\u001b[39m_update_mu_sigma(xvec)\n\u001b[1;32m    259\u001b[0m     dx \u001b[39m=\u001b[39m \u001b[39mself\u001b[39m\u001b[39m.\u001b[39mT_inv \u001b[39m*\u001b[39m (\u001b[39mself\u001b[39m\u001b[39m.\u001b[39mphi() \u001b[39m-\u001b[39m xvec) \u001b[39m*\u001b[39m dt\n\u001b[1;32m    260\u001b[0m     xvec \u001b[39m=\u001b[39m xvec \u001b[39m+\u001b[39m dx\n",
      "File \u001b[0;32m~/Documents/projects/v1_modelling/Mouse-V1-Pytorch/mouse_utils.py:184\u001b[0m, in \u001b[0;36mNeuroNN._update_mu_sigma\u001b[0;34m(self, rate)\u001b[0m\n\u001b[1;32m    182\u001b[0m \u001b[39mdef\u001b[39;00m \u001b[39m_update_mu_sigma\u001b[39m(\u001b[39mself\u001b[39m, rate):\n\u001b[1;32m    183\u001b[0m     \u001b[39m# Find net input mean and variance given inputs\u001b[39;00m\n\u001b[0;32m--> 184\u001b[0m     \u001b[39mself\u001b[39m\u001b[39m.\u001b[39mmu \u001b[39m=\u001b[39m \u001b[39mself\u001b[39m\u001b[39m.\u001b[39mtau \u001b[39m*\u001b[39m (\u001b[39mself\u001b[39m\u001b[39m.\u001b[39mweights \u001b[39m@\u001b[39m rate) \u001b[39m+\u001b[39m \u001b[39mself\u001b[39m\u001b[39m.\u001b[39minput_mean\n\u001b[1;32m    185\u001b[0m     \u001b[39mself\u001b[39m\u001b[39m.\u001b[39msigma \u001b[39m=\u001b[39m torch\u001b[39m.\u001b[39msqrt(\u001b[39mself\u001b[39m\u001b[39m.\u001b[39mtau \u001b[39m*\u001b[39m (\u001b[39mself\u001b[39m\u001b[39m.\u001b[39mweights2 \u001b[39m@\u001b[39m rate) \u001b[39m+\u001b[39m torch\u001b[39m.\u001b[39msquare(\u001b[39mself\u001b[39m\u001b[39m.\u001b[39minput_sd))\n\u001b[1;32m    186\u001b[0m     \u001b[39mreturn\u001b[39;00m \u001b[39mself\u001b[39m\u001b[39m.\u001b[39mmu, \u001b[39mself\u001b[39m\u001b[39m.\u001b[39msigma\n",
      "File \u001b[0;32m~/anaconda3/lib/python3.11/site-packages/torch/nn/modules/module.py:1617\u001b[0m, in \u001b[0;36mModule.__setattr__\u001b[0;34m(self, name, value)\u001b[0m\n\u001b[1;32m   1613\u001b[0m             \u001b[39mreturn\u001b[39;00m modules[name]\n\u001b[1;32m   1614\u001b[0m     \u001b[39mraise\u001b[39;00m \u001b[39mAttributeError\u001b[39;00m(\u001b[39m\"\u001b[39m\u001b[39m'\u001b[39m\u001b[39m{}\u001b[39;00m\u001b[39m'\u001b[39m\u001b[39m object has no attribute \u001b[39m\u001b[39m'\u001b[39m\u001b[39m{}\u001b[39;00m\u001b[39m'\u001b[39m\u001b[39m\"\u001b[39m\u001b[39m.\u001b[39mformat(\n\u001b[1;32m   1615\u001b[0m         \u001b[39mtype\u001b[39m(\u001b[39mself\u001b[39m)\u001b[39m.\u001b[39m\u001b[39m__name__\u001b[39m, name))\n\u001b[0;32m-> 1617\u001b[0m \u001b[39mdef\u001b[39;00m \u001b[39m__setattr__\u001b[39m(\u001b[39mself\u001b[39m, name: \u001b[39mstr\u001b[39m, value: Union[Tensor, \u001b[39m'\u001b[39m\u001b[39mModule\u001b[39m\u001b[39m'\u001b[39m]) \u001b[39m-\u001b[39m\u001b[39m>\u001b[39m \u001b[39mNone\u001b[39;00m:\n\u001b[1;32m   1618\u001b[0m     \u001b[39mdef\u001b[39;00m \u001b[39mremove_from\u001b[39m(\u001b[39m*\u001b[39mdicts_or_sets):\n\u001b[1;32m   1619\u001b[0m         \u001b[39mfor\u001b[39;00m d \u001b[39min\u001b[39;00m dicts_or_sets:\n",
      "\u001b[0;31mKeyboardInterrupt\u001b[0m: "
     ]
    }
   ],
   "source": [
    "J_array = [0, -0.29, 0.69, -0.64] # Keen log values\n",
    "P_array = [-0.8, -2.21, -2.21, -0.8]\n",
    "w_array = [3.46, 3.46, 3.46, 3.46]\n",
    "\n",
    "J_array = [-1.5734, -0.20967, 0.472169, -0.6607]  # JAX minima \n",
    "P_array = [-2.2163,  -2.2553,  -2.4399,  -0.8935]\n",
    "w_array = [2.054, 3.5095, 3.3344, 3.47027]\n",
    "\n",
    "\n",
    "model = mu.NeuroNN(J_array, P_array, w_array, 4000)\n",
    "if torch.cuda.is_available():\n",
    "    model = model.to('cuda')\n",
    "    print(\"Model moved to GPU.\")\n",
    "else:\n",
    "    print(\"GPU not available. Keeping the model on CPU.\")\n",
    "\n",
    "mu.training_loop_no_backwards(model, result_array)"
   ]
  },
  {
   "cell_type": "code",
   "execution_count": null,
   "metadata": {},
   "outputs": [],
   "source": []
  },
  {
   "cell_type": "code",
   "execution_count": null,
   "metadata": {},
   "outputs": [],
   "source": []
  }
 ],
 "metadata": {
  "kernelspec": {
   "display_name": "base",
   "language": "python",
   "name": "python3"
  },
  "language_info": {
   "codemirror_mode": {
    "name": "ipython",
    "version": 3
   },
   "file_extension": ".py",
   "mimetype": "text/x-python",
   "name": "python",
   "nbconvert_exporter": "python",
   "pygments_lexer": "ipython3",
   "version": "3.11.3"
  }
 },
 "nbformat": 4,
 "nbformat_minor": 2
}
