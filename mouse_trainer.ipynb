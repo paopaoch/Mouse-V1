{
 "cells": [
  {
   "cell_type": "code",
   "execution_count": 2,
   "metadata": {},
   "outputs": [],
   "source": [
    "import pandas as pd\n",
    "import numpy as np\n",
    "import matplotlib.pyplot as plt\n",
    "import matplotlib.patches as mpatches\n",
    "\n",
    "import mouse_utils as mu\n",
    "import torch"
   ]
  },
  {
   "cell_type": "code",
   "execution_count": 3,
   "metadata": {},
   "outputs": [
    {
     "name": "stderr",
     "output_type": "stream",
     "text": [
      "/var/folders/78/9j91h4q516z7774553xzp19m0000gn/T/ipykernel_76775/3572531747.py:1: DtypeWarning: Columns (11) have mixed types. Specify dtype option on import or set low_memory=False.\n",
      "  df = pd.read_csv(\"./data/K-Data.csv\")\n"
     ]
    }
   ],
   "source": [
    "df = pd.read_csv(\"./data/K-Data.csv\")\n",
    "\n",
    "\n",
    "v1 = df.query(\"region == 'V1'\")\n",
    "m = v1.m.unique()[2]\n",
    "v1_data = v1[v1.m == m]\n",
    "# v1_data = v1_data.query(\"grat_spat_freq == 0.332966\").query(\"grat_phase == [180]\")\n",
    "v1_data = v1_data[['u', 'unit_type', 'grat_orientation', 'grat_contrast', 'response', 'smoothed_response']].reset_index(drop=True)\n",
    "v1_data = v1_data.groupby(['unit_type','u', 'grat_contrast', 'grat_orientation'], as_index=False).mean()\n",
    "\n",
    "\n",
    "# Get unique values for each column\n",
    "unique_u = v1_data['u'].unique()\n",
    "unique_contrast = v1_data['grat_contrast'].unique()\n",
    "unique_orientation = v1_data['grat_orientation'].unique()\n",
    "\n",
    "\n",
    "# Create a 3D numpy array filled with NaN values\n",
    "shape = (len(unique_u), len(unique_contrast), len(unique_orientation))\n",
    "result_array = np.full(shape, np.nan)\n",
    "\n",
    "\n",
    "# Iterate through the DataFrame and fill the array\n",
    "for index, row in v1_data.iterrows():\n",
    "    u_index = np.where(unique_u == row['u'])[0][0]\n",
    "    contrast_index = np.where(unique_contrast == row['grat_contrast'])[0][0]\n",
    "    orientation_index = np.where(unique_orientation == row['grat_orientation'])[0][0]\n",
    "    \n",
    "    result_array[u_index, contrast_index, orientation_index] = row['response']\n"
   ]
  },
  {
   "cell_type": "code",
   "execution_count": 4,
   "metadata": {},
   "outputs": [
    {
     "name": "stdout",
     "output_type": "stream",
     "text": [
      "GPU not available. Keeping the model on CPU.\n"
     ]
    }
   ],
   "source": [
    "\n",
    "# J_array = [1.99, 1.9, 1.01, 0.79]  # Need to make parameters of an exponential\n",
    "# P_array = [0.11, 0.11, 0.45, 0.45]\n",
    "# w_array = [32., 32., 32., 32.]\n",
    "\n",
    "\n",
    "# J_array = [0.69, 0.64, 0., -0.29] # Max log values\n",
    "# P_array = [-2.21, -2.21, -0.8, -0.8]\n",
    "# w_array = [3.46, 3.46, 3.46, 3.46]\n",
    "\n",
    "J_array = [0, -0.29, 0.69, -0.64] # Keen log values\n",
    "P_array = [-0.8, -2.21, -2.21, -0.8]\n",
    "w_array = [3.46, 3.46, 3.46, 3.46]\n",
    "\n",
    "# J_array = [-5.1707, -0.0277,  0.9482,  0.1585]\n",
    "# P_array = [-6.1361, -1.9772,  0.8548,  1.2384]\n",
    "# w_array = [0.3990, 3.6245, 4.1893, 3.6955]\n",
    "\n",
    "# J_array = [0.69, 0.64, 0., -0.29]\n",
    "# P_array = [-1.21, -1.21, -0.8, -0.8]\n",
    "# w_array = [3.46, 3.46, 3.46, 3.46]\n",
    "\n",
    "# J_array = [9.04e-02, 3.82e-05, 7.62e-5, 2.52]\n",
    "# P_array = [1.93e-02,  8.78,  1.79e-04,  2.85]\n",
    "# w_array = [8.78, 166, 1.23e-2, 1.81e2]\n",
    "\n",
    "\n",
    "J_array = [-3.5, 0.346, 0.381, -0.669]  # JAX minima \n",
    "P_array = [-0.5549,  -2.64767,  -2.7836,  -1.597]\n",
    "w_array = [4.26, 3.44, 3.30, 3.47]\n",
    "\n",
    "\n",
    "\n",
    "\n",
    "model = mu.NeuroNN(J_array, P_array, w_array, 7000)\n",
    "if torch.cuda.is_available():\n",
    "    model = model.to('cuda')\n",
    "    print(\"Model moved to GPU.\")\n",
    "else:\n",
    "    print(\"GPU not available. Keeping the model on CPU.\")\n",
    "\n",
    "optimizer = torch.optim.SGD(model.parameters(), lr=0.01)\n",
    "\n",
    "mu.training_loop(model, optimizer, result_array)"
   ]
  },
  {
   "cell_type": "code",
   "execution_count": null,
   "metadata": {},
   "outputs": [],
   "source": []
  }
 ],
 "metadata": {
  "kernelspec": {
   "display_name": "base",
   "language": "python",
   "name": "python3"
  },
  "language_info": {
   "codemirror_mode": {
    "name": "ipython",
    "version": 3
   },
   "file_extension": ".py",
   "mimetype": "text/x-python",
   "name": "python",
   "nbconvert_exporter": "python",
   "pygments_lexer": "ipython3",
   "version": "3.11.3"
  }
 },
 "nbformat": 4,
 "nbformat_minor": 2
}
