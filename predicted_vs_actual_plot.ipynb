{
 "cells": [
  {
   "cell_type": "code",
   "execution_count": 17,
   "metadata": {},
   "outputs": [],
   "source": [
    "import pickle\n",
    "import torch\n",
    "from utils.rodents_routine import params_to_J_scalar, params_to_P_scalar, params_to_w_scalar"
   ]
  },
  {
   "cell_type": "code",
   "execution_count": 18,
   "metadata": {},
   "outputs": [],
   "source": [
    "with open(\"/Users/paopao_ch/Documents/projects/v1_modelling/Mouse-V1-Pytorch/method_validation_multi_dataset_cpu.pickle\", \"rb\") as f:\n",
    "    data = pickle.load(f)"
   ]
  },
  {
   "cell_type": "code",
   "execution_count": 19,
   "metadata": {},
   "outputs": [
    {
     "data": {
      "text/plain": [
       "30"
      ]
     },
     "execution_count": 19,
     "metadata": {},
     "output_type": "execute_result"
    }
   ],
   "source": [
    "len(data)"
   ]
  },
  {
   "cell_type": "code",
   "execution_count": 20,
   "metadata": {},
   "outputs": [],
   "source": [
    "data_for_df = {\"J EE\": [],\n",
    "               \"J EI\": [],\n",
    "               \"J IE\": [],\n",
    "               \"J II\": [],\n",
    "               \"P EE\": [],\n",
    "               \"P EI\": [],\n",
    "               \"P IE\": [],\n",
    "               \"P II\": [],\n",
    "               \"w EE\": [],\n",
    "               \"w EI\": [],\n",
    "               \"w IE\": [],\n",
    "               \"w II\": [],\n",
    "               \"loss\": []}\n",
    "for datum in data:\n",
    "    data_for_df[\"J EE\"].append(params_to_J_scalar(float(datum[\"J_predicted\"][0])))\n",
    "    data_for_df[\"J EI\"].append(params_to_J_scalar(float(datum[\"J_predicted\"][1])))\n",
    "    data_for_df[\"J IE\"].append(params_to_J_scalar(float(datum[\"J_predicted\"][2])))\n",
    "    data_for_df[\"J II\"].append(params_to_J_scalar(float(datum[\"J_predicted\"][3])))\n",
    "\n",
    "    data_for_df[\"P EE\"].append(params_to_P_scalar(float(datum[\"P_predicted\"][0])))\n",
    "    data_for_df[\"P EI\"].append(params_to_P_scalar(float(datum[\"P_predicted\"][1])))\n",
    "    data_for_df[\"P IE\"].append(params_to_P_scalar(float(datum[\"P_predicted\"][2])))\n",
    "    data_for_df[\"P II\"].append(params_to_P_scalar(float(datum[\"P_predicted\"][3])))\n",
    "\n",
    "    data_for_df[\"w EE\"].append(params_to_w_scalar(float(datum[\"w_predicted\"][0])))\n",
    "    data_for_df[\"w EI\"].append(params_to_w_scalar(float(datum[\"w_predicted\"][1])))\n",
    "    data_for_df[\"w IE\"].append(params_to_w_scalar(float(datum[\"w_predicted\"][2])))\n",
    "    data_for_df[\"w II\"].append(params_to_w_scalar(float(datum[\"w_predicted\"][3])))\n",
    "\n",
    "    data_for_df[\"loss\"].append(float(datum[\"loss\"]))"
   ]
  },
  {
   "cell_type": "code",
   "execution_count": 22,
   "metadata": {},
   "outputs": [
    {
     "data": {
      "text/plain": [
       "[{'J_predicted': tensor([-3.5441, -0.9611,  4.1857,  2.8722]),\n",
       "  'P_predicted': tensor([ 2.7260, -2.6645, -2.6238, -3.6423]),\n",
       "  'w_predicted': tensor([-0.7135, -0.1453, -0.9223, -0.1831]),\n",
       "  'loss': tensor(0.0133)},\n",
       " {'J_predicted': tensor([-1.8034, -1.5673,  0.7067,  1.5807]),\n",
       "  'P_predicted': tensor([-5.9673, -3.5154, -1.6533, -0.3447]),\n",
       "  'w_predicted': tensor([ 3.2373, -0.4360,  0.2981,  0.2157]),\n",
       "  'loss': tensor(0.0135)},\n",
       " {'J_predicted': tensor([-3.5564, -3.9436,  3.9467, -1.7740]),\n",
       "  'P_predicted': tensor([ 4.3401, -0.9802, -1.1590,  3.6869]),\n",
       "  'w_predicted': tensor([ 3.8137, -0.2531,  3.0885, -2.9132]),\n",
       "  'loss': tensor(0.0134)},\n",
       " {'J_predicted': tensor([-1.6978,  0.3675,  4.1201, -2.9192]),\n",
       "  'P_predicted': tensor([-3.1584, -5.1849, -1.3525,  0.1292]),\n",
       "  'w_predicted': tensor([ 3.5501, -1.2161, -1.9000,  0.7806]),\n",
       "  'loss': tensor(0.0141)},\n",
       " {'J_predicted': tensor([-2.1096,  3.4233,  3.7711, -1.4060]),\n",
       "  'P_predicted': tensor([-1.6476, -3.7393,  3.5094,  2.8523]),\n",
       "  'w_predicted': tensor([-3.7009,  3.1719, -3.5072, -0.3650]),\n",
       "  'loss': tensor(0.0131)},\n",
       " {'J_predicted': tensor([-3.7794,  0.6037,  3.9965,  4.4656]),\n",
       "  'P_predicted': tensor([-2.9152, -3.8853, -1.9299, -2.0502]),\n",
       "  'w_predicted': tensor([-3.7942, -2.1536, -1.9464, -0.5307]),\n",
       "  'loss': tensor(0.0138)},\n",
       " {'J_predicted': tensor([ 1.9628, -3.8904,  4.3029, -1.5253]),\n",
       "  'P_predicted': tensor([-4.9426,  1.7308, -3.0950, -1.9042]),\n",
       "  'w_predicted': tensor([-0.2938, -2.0891,  2.0614,  4.3573]),\n",
       "  'loss': tensor(0.0129)},\n",
       " {'J_predicted': tensor([-2.8791,  0.4136, -1.6183,  3.8173]),\n",
       "  'P_predicted': tensor([ 3.0744, -0.7018,  1.7161,  3.5972]),\n",
       "  'w_predicted': tensor([-1.7513,  1.0377, -0.9963,  2.0170]),\n",
       "  'loss': tensor(0.0154)},\n",
       " {'J_predicted': tensor([ -4.2593,  -9.6711,  -1.2910, 133.4745]),\n",
       "  'P_predicted': tensor([ 0.1260, -6.0721,  1.2256, 62.5178]),\n",
       "  'w_predicted': tensor([ -3.1075,   3.1352,   3.4834, 140.0487]),\n",
       "  'loss': tensor(0.0210)},\n",
       " {'J_predicted': tensor([3.4469, 1.3363, 3.3783, 3.2923]),\n",
       "  'P_predicted': tensor([-1.3914, -1.3511,  2.2534,  2.9801]),\n",
       "  'w_predicted': tensor([-2.4636,  4.0222,  0.2357, -0.1963]),\n",
       "  'loss': tensor(0.0130)},\n",
       " {'J_predicted': tensor([-6.5485,  4.4401,  2.8676,  3.9783]),\n",
       "  'P_predicted': tensor([-2.5740, -1.6642, -1.9304,  3.2654]),\n",
       "  'w_predicted': tensor([ 2.1579, -0.5915,  0.4386,  1.0348]),\n",
       "  'loss': tensor(0.0183)},\n",
       " {'J_predicted': tensor([ 1.0520, -1.2904, -1.9662,  1.0183]),\n",
       "  'P_predicted': tensor([-3.5381,  3.4876,  4.3576,  0.8131]),\n",
       "  'w_predicted': tensor([-3.1763, -2.9049,  1.2869,  3.1231]),\n",
       "  'loss': tensor(0.0126)},\n",
       " {'J_predicted': tensor([-4.2727, -2.5296,  1.3113, -2.3145]),\n",
       "  'P_predicted': tensor([-2.6615, -3.1030, -3.5090,  1.2461]),\n",
       "  'w_predicted': tensor([-3.2050, -2.7613, -1.4271,  3.6410]),\n",
       "  'loss': tensor(0.0153)},\n",
       " {'J_predicted': tensor([-2.8412, -4.3541,  0.8464,  3.2756]),\n",
       "  'P_predicted': tensor([-1.9203, -0.0580,  1.7051, -1.6188]),\n",
       "  'w_predicted': tensor([ 2.6958,  1.0758, -2.0708,  4.3184]),\n",
       "  'loss': tensor(0.0161)},\n",
       " {'J_predicted': tensor([-1.1902, -4.3546,  1.1689, -4.4266]),\n",
       "  'P_predicted': tensor([-4.3017, -3.5729,  3.4338, -2.6217]),\n",
       "  'w_predicted': tensor([-2.5607,  2.9004, -1.5398, -1.0421]),\n",
       "  'loss': tensor(0.0138)},\n",
       " {'J_predicted': tensor([-1.9648,  4.0643,  0.5934,  0.9287]),\n",
       "  'P_predicted': tensor([ 4.1224, -1.4872,  1.6201,  2.2093]),\n",
       "  'w_predicted': tensor([-0.6397,  1.8148,  4.0804,  0.9927]),\n",
       "  'loss': tensor(0.0139)},\n",
       " {'J_predicted': tensor([-5.0924,  4.3339, -1.1724,  4.3709]),\n",
       "  'P_predicted': tensor([-2.5492, -2.9943, -0.4421,  0.6194]),\n",
       "  'w_predicted': tensor([ 0.5636, -0.7081, -0.3657,  1.9959]),\n",
       "  'loss': tensor(0.0146)},\n",
       " {'J_predicted': tensor([-1.5648, -3.2062, -1.6456,  2.6193]),\n",
       "  'P_predicted': tensor([-3.8316,  0.6811,  0.7005,  1.2286]),\n",
       "  'w_predicted': tensor([0.8918, 0.6338, 0.8020, 2.7385]),\n",
       "  'loss': tensor(0.0150)},\n",
       " {'J_predicted': tensor([-3.1113, -4.1145,  2.3600, -3.4001]),\n",
       "  'P_predicted': tensor([ 2.1769, -0.9245,  3.2114,  1.2362]),\n",
       "  'w_predicted': tensor([ 3.0531, -2.0138,  0.6121,  1.7780]),\n",
       "  'loss': tensor(0.0131)},\n",
       " {'J_predicted': tensor([-4.2718, -6.1645, -1.1300, -1.6252]),\n",
       "  'P_predicted': tensor([ 0.0680, -5.7395, -3.3475, -1.7384]),\n",
       "  'w_predicted': tensor([-4.0645, -0.5555,  4.1837, -0.0405]),\n",
       "  'loss': tensor(0.0603)},\n",
       " {'J_predicted': tensor([3.4543, 0.8004, 1.8910, 2.8654]),\n",
       "  'P_predicted': tensor([-3.5164, -1.9814, -1.0195, -3.1791]),\n",
       "  'w_predicted': tensor([ 2.4193, -4.5319,  1.5310,  2.0494]),\n",
       "  'loss': tensor(0.1058)},\n",
       " {'J_predicted': tensor([ 1.4286, -3.4220,  2.8027, -1.4367]),\n",
       "  'P_predicted': tensor([-2.8093, -3.2013,  0.3881, -3.0708]),\n",
       "  'w_predicted': tensor([-3.5417,  0.5826, -1.6007,  3.8426]),\n",
       "  'loss': tensor(0.0141)},\n",
       " {'J_predicted': tensor([ 3.9109, -4.0119, -2.8283, -2.3330]),\n",
       "  'P_predicted': tensor([-5.2350, -1.2018,  2.1155, -2.4117]),\n",
       "  'w_predicted': tensor([ 2.0581, -1.7288, -0.4262,  0.5273]),\n",
       "  'loss': tensor(0.0134)},\n",
       " {'J_predicted': tensor([-3.2551, -1.3492, -1.6062,  3.5714]),\n",
       "  'P_predicted': tensor([-5.3624, -0.6861, -3.2645, -0.9006]),\n",
       "  'w_predicted': tensor([0.3245, 3.0388, 2.1035, 3.1791]),\n",
       "  'loss': tensor(0.0212)},\n",
       " {'J_predicted': tensor([-4.2765, -0.5402,  1.9704,  3.3603]),\n",
       "  'P_predicted': tensor([ 4.3784, -4.0786,  1.1505, -1.4706]),\n",
       "  'w_predicted': tensor([ 3.7489,  0.6803, -1.3273,  2.8121]),\n",
       "  'loss': tensor(0.0133)},\n",
       " {'J_predicted': tensor([-2.2147,  1.5958,  3.6052, -0.2282]),\n",
       "  'P_predicted': tensor([-4.2170, -2.1230, -1.1624,  3.3595]),\n",
       "  'w_predicted': tensor([ 0.8437, -1.8344, -3.0360,  4.1277]),\n",
       "  'loss': tensor(0.0149)},\n",
       " {'J_predicted': tensor([0.7400, 0.4789, 1.8298, 1.1170]),\n",
       "  'P_predicted': tensor([-4.1696, -3.4779, -2.8865, -3.6920]),\n",
       "  'w_predicted': tensor([ 2.6612, -3.1192,  4.3932, -2.0782]),\n",
       "  'loss': tensor(0.0131)},\n",
       " {'J_predicted': tensor([1.1815, 0.7269, 3.8904, 0.5012]),\n",
       "  'P_predicted': tensor([-4.0287, -3.7872, -0.9211,  3.2982]),\n",
       "  'w_predicted': tensor([-0.0717,  3.0849,  1.1081, -2.6375]),\n",
       "  'loss': tensor(0.0141)},\n",
       " {'J_predicted': tensor([-1.2282, -3.7277, -1.5683,  3.6525]),\n",
       "  'P_predicted': tensor([-4.3233, -3.5239,  0.0624, -3.9029]),\n",
       "  'w_predicted': tensor([-0.7698,  2.6625, -0.1124,  3.6025]),\n",
       "  'loss': tensor(0.0132)},\n",
       " {'J_predicted': tensor([-4.1353,  0.2258,  3.3884, -0.2941]),\n",
       "  'P_predicted': tensor([-0.0156, -3.0479,  2.0060,  1.3530]),\n",
       "  'w_predicted': tensor([ 0.9140,  1.2451, -3.0776, -0.1757]),\n",
       "  'loss': tensor(0.0146)}]"
      ]
     },
     "execution_count": 22,
     "metadata": {},
     "output_type": "execute_result"
    }
   ],
   "source": [
    "# data_for_df\n"
   ]
  },
  {
   "cell_type": "code",
   "execution_count": null,
   "metadata": {},
   "outputs": [],
   "source": []
  }
 ],
 "metadata": {
  "kernelspec": {
   "display_name": "base",
   "language": "python",
   "name": "python3"
  },
  "language_info": {
   "codemirror_mode": {
    "name": "ipython",
    "version": 3
   },
   "file_extension": ".py",
   "mimetype": "text/x-python",
   "name": "python",
   "nbconvert_exporter": "python",
   "pygments_lexer": "ipython3",
   "version": "3.11.3"
  }
 },
 "nbformat": 4,
 "nbformat_minor": 2
}
