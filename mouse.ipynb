{
 "cells": [
  {
   "cell_type": "code",
   "execution_count": 1,
   "metadata": {},
   "outputs": [],
   "source": [
    "import pandas as pd\n",
    "import numpy as np\n",
    "import matplotlib.pyplot as plt"
   ]
  },
  {
   "cell_type": "code",
   "execution_count": 205,
   "metadata": {},
   "outputs": [
    {
     "name": "stderr",
     "output_type": "stream",
     "text": [
      "/var/folders/78/9j91h4q516z7774553xzp19m0000gn/T/ipykernel_51228/2728384747.py:1: DtypeWarning: Columns (11) have mixed types. Specify dtype option on import or set low_memory=False.\n",
      "  df = pd.read_csv(\"./data/K-Data.csv\")\n"
     ]
    }
   ],
   "source": [
    "df = pd.read_csv(\"./data/K-Data.csv\")"
   ]
  },
  {
   "cell_type": "code",
   "execution_count": 206,
   "metadata": {},
   "outputs": [
    {
     "name": "stdout",
     "output_type": "stream",
     "text": [
      "[2 5]\n",
      "[4]\n",
      "['excit']\n"
     ]
    }
   ],
   "source": [
    "# Therefore different units can be recorded from different experiement but in the same session we should be able to assume that\n",
    "# the the neuron index is just u - Will need to check\n",
    "\n",
    "print(df.query(\"region == 'V1'\").query(\"u == 32\").e.unique())\n",
    "print(df.query(\"region == 'V1'\").query(\"u == 32\").s.unique())\n",
    "print(df.query(\"region == 'V1'\").query(\"u == 32\").unit_type.unique())"
   ]
  },
  {
   "cell_type": "code",
   "execution_count": 207,
   "metadata": {},
   "outputs": [],
   "source": [
    "v1 = df.query(\"region == 'V1'\")\n",
    "m = v1.m.unique()[2]\n",
    "v1_data = v1[v1.m == m]\n",
    "# v1_data = v1_data.query(\"grat_spat_freq == 0.332966\").query(\"grat_phase == [180]\")\n",
    "v1_data = v1_data[['u', 'unit_type', 'grat_orientation', 'grat_contrast', 'response', 'smoothed_response']].reset_index(drop=True)"
   ]
  },
  {
   "cell_type": "code",
   "execution_count": 208,
   "metadata": {},
   "outputs": [],
   "source": [
    "data = v1[v1.m == m]\n",
    "orientations = data.grat_orientation.unique()\n",
    "contrasts = data.grat_contrast.unique()\n",
    "spatial_frequencies = data.grat_spat_freq.unique()\n",
    "phases = data.grat_phase.unique()\n",
    "units = sorted(data.u.unique())"
   ]
  },
  {
   "cell_type": "code",
   "execution_count": 209,
   "metadata": {},
   "outputs": [
    {
     "data": {
      "text/plain": [
       "array([0.01     , 0.0240215, 0.0577032, 0.138612 , 0.332966 , 0.799834 ])"
      ]
     },
     "execution_count": 209,
     "metadata": {},
     "output_type": "execute_result"
    }
   ],
   "source": [
    "spatial_frequencies"
   ]
  },
  {
   "cell_type": "code",
   "execution_count": 210,
   "metadata": {},
   "outputs": [
    {
     "data": {
      "text/plain": [
       "array([  0,  90, 180, 270])"
      ]
     },
     "execution_count": 210,
     "metadata": {},
     "output_type": "execute_result"
    }
   ],
   "source": [
    "phases"
   ]
  },
  {
   "cell_type": "code",
   "execution_count": 211,
   "metadata": {},
   "outputs": [],
   "source": [
    "v1_data.query(\"unit_type != 'excit'\").head()\n",
    "#  'grat_spat_freq', 'grat_phase'\n",
    "v1_data = v1_data[['u', 'unit_type', 'grat_orientation', 'grat_contrast', 'response', 'smoothed_response']].reset_index(drop=True)\n",
    "v1_data = v1_data.groupby(['unit_type','u', 'grat_contrast', 'grat_orientation'], as_index=False).mean()"
   ]
  },
  {
   "cell_type": "code",
   "execution_count": 212,
   "metadata": {},
   "outputs": [
    {
     "data": {
      "text/plain": [
       "8160"
      ]
     },
     "execution_count": 212,
     "metadata": {},
     "output_type": "execute_result"
    }
   ],
   "source": [
    "len(v1_data)"
   ]
  },
  {
   "cell_type": "code",
   "execution_count": 213,
   "metadata": {},
   "outputs": [
    {
     "data": {
      "text/html": [
       "<div>\n",
       "<style scoped>\n",
       "    .dataframe tbody tr th:only-of-type {\n",
       "        vertical-align: middle;\n",
       "    }\n",
       "\n",
       "    .dataframe tbody tr th {\n",
       "        vertical-align: top;\n",
       "    }\n",
       "\n",
       "    .dataframe thead th {\n",
       "        text-align: right;\n",
       "    }\n",
       "</style>\n",
       "<table border=\"1\" class=\"dataframe\">\n",
       "  <thead>\n",
       "    <tr style=\"text-align: right;\">\n",
       "      <th></th>\n",
       "      <th>unit_type</th>\n",
       "      <th>u</th>\n",
       "      <th>grat_contrast</th>\n",
       "      <th>grat_orientation</th>\n",
       "      <th>response</th>\n",
       "      <th>smoothed_response</th>\n",
       "    </tr>\n",
       "  </thead>\n",
       "  <tbody>\n",
       "    <tr>\n",
       "      <th>0</th>\n",
       "      <td>excit</td>\n",
       "      <td>2</td>\n",
       "      <td>0.0</td>\n",
       "      <td>0</td>\n",
       "      <td>0.000763</td>\n",
       "      <td>0.000828</td>\n",
       "    </tr>\n",
       "    <tr>\n",
       "      <th>1</th>\n",
       "      <td>excit</td>\n",
       "      <td>2</td>\n",
       "      <td>0.0</td>\n",
       "      <td>15</td>\n",
       "      <td>0.000995</td>\n",
       "      <td>0.000984</td>\n",
       "    </tr>\n",
       "    <tr>\n",
       "      <th>2</th>\n",
       "      <td>excit</td>\n",
       "      <td>2</td>\n",
       "      <td>0.0</td>\n",
       "      <td>30</td>\n",
       "      <td>0.001027</td>\n",
       "      <td>0.001104</td>\n",
       "    </tr>\n",
       "    <tr>\n",
       "      <th>3</th>\n",
       "      <td>excit</td>\n",
       "      <td>2</td>\n",
       "      <td>0.0</td>\n",
       "      <td>45</td>\n",
       "      <td>0.000988</td>\n",
       "      <td>0.000923</td>\n",
       "    </tr>\n",
       "    <tr>\n",
       "      <th>4</th>\n",
       "      <td>excit</td>\n",
       "      <td>2</td>\n",
       "      <td>0.0</td>\n",
       "      <td>60</td>\n",
       "      <td>0.000696</td>\n",
       "      <td>0.000765</td>\n",
       "    </tr>\n",
       "  </tbody>\n",
       "</table>\n",
       "</div>"
      ],
      "text/plain": [
       "  unit_type  u  grat_contrast  grat_orientation  response  smoothed_response\n",
       "0     excit  2            0.0                 0  0.000763           0.000828\n",
       "1     excit  2            0.0                15  0.000995           0.000984\n",
       "2     excit  2            0.0                30  0.001027           0.001104\n",
       "3     excit  2            0.0                45  0.000988           0.000923\n",
       "4     excit  2            0.0                60  0.000696           0.000765"
      ]
     },
     "execution_count": 213,
     "metadata": {},
     "output_type": "execute_result"
    }
   ],
   "source": [
    "v1_data.head()"
   ]
  },
  {
   "cell_type": "code",
   "execution_count": 214,
   "metadata": {},
   "outputs": [],
   "source": [
    "v1_data.to_csv('./data/v1_data.csv', index=False)"
   ]
  },
  {
   "cell_type": "code",
   "execution_count": 215,
   "metadata": {},
   "outputs": [
    {
     "data": {
      "image/png": "[encoded data removed]",
      "text/plain": [
       "<Figure size 640x480 with 1 Axes>"
      ]
     },
     "metadata": {},
     "output_type": "display_data"
    }
   ],
   "source": [
    "con1 = \"0.464386\"\n",
    "con2 = \"1\"\n",
    "neuron = \"2\"\n",
    "\n",
    "test_orientations = v1_data.query(f\"u == {neuron}\").query(f\"grat_contrast == {con1}\").grat_orientation.to_list()\n",
    "test_responses = v1_data.query(f\"u == {neuron}\").query(f\"grat_contrast == {con1}\").response.to_list()\n",
    "plt.plot(test_orientations, test_responses)\n",
    "\n",
    "test_orientations = v1_data.query(f\"u == {neuron}\").query(f\"grat_contrast == {con2}\").grat_orientation.to_list()\n",
    "test_responses = v1_data.query(f\"u == {neuron}\").query(f\"grat_contrast == {con2}\").response.to_list()\n",
    "plt.plot(test_orientations, test_responses)\n",
    "\n",
    "plt.show()"
   ]
  },
  {
   "cell_type": "code",
   "execution_count": 216,
   "metadata": {},
   "outputs": [
    {
     "data": {
      "text/plain": [
       "array([0.       , 0.0432773, 0.103411 , 0.186966 , 0.303066 , 0.464386 ,\n",
       "       0.68854  , 1.       ])"
      ]
     },
     "execution_count": 216,
     "metadata": {},
     "output_type": "execute_result"
    }
   ],
   "source": [
    "contrasts"
   ]
  },
  {
   "cell_type": "code",
   "execution_count": 217,
   "metadata": {},
   "outputs": [
    {
     "data": {
      "text/plain": [
       "array([ 2,  4,  6,  9, 11, 12, 13, 14, 15, 16, 17, 18, 19, 20, 21, 22, 23,\n",
       "       24, 25, 27, 28, 29, 30, 31, 32, 33, 34, 35, 36, 37, 38, 39, 42, 43,\n",
       "       44, 45, 46, 47, 49, 50, 51, 52, 54, 55, 56, 57, 59, 60, 62, 63, 64,\n",
       "       65, 66, 67, 68, 69, 70, 73, 74, 77, 78, 80, 81, 82, 83, 84, 86, 87,\n",
       "       89, 90, 91, 92,  5,  7,  8, 10, 58, 71, 72, 79])"
      ]
     },
     "execution_count": 217,
     "metadata": {},
     "output_type": "execute_result"
    }
   ],
   "source": [
    "v1_data.u.unique()"
   ]
  },
  {
   "cell_type": "code",
   "execution_count": 218,
   "metadata": {},
   "outputs": [],
   "source": [
    "# n_u = len(units)\n",
    "# n_spat = len(spatial_frequencies)\n",
    "# tuning_curves = np.zeros([n_u * n_spat, len(contrasts), len(orientations)])\n"
   ]
  },
  {
   "cell_type": "code",
   "execution_count": 219,
   "metadata": {},
   "outputs": [],
   "source": [
    "# for i, tc in enumerate(tuning_curves):\n",
    "#     plt.imshow(tc)\n",
    "#     plt.show()"
   ]
  },
  {
   "cell_type": "code",
   "execution_count": 220,
   "metadata": {},
   "outputs": [],
   "source": [
    "# v1_data\n",
    "\n",
    "# Assuming df is your DataFrame\n",
    "# Replace df with the actual name of your DataFrame\n",
    "\n",
    "# Get unique values for each column\n",
    "unique_u = v1_data['u'].unique()\n",
    "unique_contrast = v1_data['grat_contrast'].unique()\n",
    "unique_orientation = v1_data['grat_orientation'].unique()\n",
    "\n",
    "# Create a 3D numpy array filled with NaN values\n",
    "shape = (len(unique_u), len(unique_contrast), len(unique_orientation))\n",
    "result_array = np.full(shape, np.nan)\n",
    "\n",
    "# Iterate through the DataFrame and fill the array\n",
    "for index, row in v1_data.iterrows():\n",
    "    u_index = np.where(unique_u == row['u'])[0][0]\n",
    "    contrast_index = np.where(unique_contrast == row['grat_contrast'])[0][0]\n",
    "    orientation_index = np.where(unique_orientation == row['grat_orientation'])[0][0]\n",
    "    \n",
    "    result_array[u_index, contrast_index, orientation_index] = row['response']\n",
    "\n",
    "# Now result_array contains the 3D array you're looking for\n"
   ]
  },
  {
   "cell_type": "code",
   "execution_count": 221,
   "metadata": {},
   "outputs": [
    {
     "data": {
      "image/png": "[encoded data removed]",
      "text/plain": [
       "<Figure size 640x480 with 1 Axes>"
      ]
     },
     "metadata": {},
     "output_type": "display_data"
    }
   ],
   "source": [
    "# plt.plot(unique_orientation, result_array[0][0])\n",
    "# plt.plot(unique_orientation, result_array[0][1])\n",
    "# plt.plot(unique_orientation, result_array[0][2])\n",
    "# plt.plot(unique_orientation, result_array[0][3])\n",
    "# plt.plot(unique_orientation, result_array[0][4])\n",
    "plt.plot(unique_orientation, result_array[0][5])\n",
    "plt.plot(unique_orientation, result_array[0][7])\n",
    "# plt.plot(unique_orientation, result_array[0][6])\n",
    "plt.show()"
   ]
  },
  {
   "cell_type": "code",
   "execution_count": 187,
   "metadata": {},
   "outputs": [
    {
     "name": "stdout",
     "output_type": "stream",
     "text": [
      "(1, 80, 8, 12)\n",
      "(80, 1, 8, 12)\n"
     ]
    }
   ],
   "source": [
    "print(result_array[None, :, :, :].shape)\n",
    "print(result_array[:, None, :, :].shape)"
   ]
  },
  {
   "cell_type": "code",
   "execution_count": 204,
   "metadata": {},
   "outputs": [
    {
     "data": {
      "text/plain": [
       "80.0"
      ]
     },
     "execution_count": 204,
     "metadata": {},
     "output_type": "execute_result"
    }
   ],
   "source": [
    "def kernel(x, y, w=1, axes=(-2,-1)):\n",
    "    return np.exp( - np.sum((x - y)**2, axis=axes) / (2 * w**2))\n",
    "\n",
    "np.mean(kernel(result_array[None, :, :, :], result_array[:, None, :, :]).shape)"
   ]
  },
  {
   "cell_type": "code",
   "execution_count": 199,
   "metadata": {},
   "outputs": [
    {
     "data": {
      "text/plain": [
       "1"
      ]
     },
     "execution_count": 199,
     "metadata": {},
     "output_type": "execute_result"
    }
   ],
   "source": [
    "len(result_array[0:50][None, :, :, :])"
   ]
  },
  {
   "cell_type": "code",
   "execution_count": null,
   "metadata": {},
   "outputs": [],
   "source": []
  }
 ],
 "metadata": {
  "kernelspec": {
   "display_name": "base",
   "language": "python",
   "name": "python3"
  },
  "language_info": {
   "codemirror_mode": {
    "name": "ipython",
    "version": 3
   },
   "file_extension": ".py",
   "mimetype": "text/x-python",
   "name": "python",
   "nbconvert_exporter": "python",
   "pygments_lexer": "ipython3",
   "version": "3.11.3"
  }
 },
 "nbformat": 4,
 "nbformat_minor": 2
}
