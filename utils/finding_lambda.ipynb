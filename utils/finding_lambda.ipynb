{
 "cells": [
  {
   "cell_type": "code",
   "execution_count": 34,
   "metadata": {},
   "outputs": [],
   "source": [
    "import pandas as pd\n",
    "import numpy as np\n",
    "import ast"
   ]
  },
  {
   "cell_type": "code",
   "execution_count": 20,
   "metadata": {},
   "outputs": [
    {
     "data": {
      "text/html": [
       "<div>\n",
       "<style scoped>\n",
       "    .dataframe tbody tr th:only-of-type {\n",
       "        vertical-align: middle;\n",
       "    }\n",
       "\n",
       "    .dataframe tbody tr th {\n",
       "        vertical-align: top;\n",
       "    }\n",
       "\n",
       "    .dataframe thead th {\n",
       "        text-align: right;\n",
       "    }\n",
       "</style>\n",
       "<table border=\"1\" class=\"dataframe\">\n",
       "  <thead>\n",
       "    <tr style=\"text-align: right;\">\n",
       "      <th></th>\n",
       "      <th>index</th>\n",
       "      <th>lambda</th>\n",
       "      <th>num_iter</th>\n",
       "      <th>mean</th>\n",
       "    </tr>\n",
       "  </thead>\n",
       "  <tbody>\n",
       "    <tr>\n",
       "      <th>0</th>\n",
       "      <td>0</td>\n",
       "      <td>12.0</td>\n",
       "      <td>31</td>\n",
       "      <td>[-4.2768, -21.9073, -2.0103, -19.9968, -2.5976...</td>\n",
       "    </tr>\n",
       "    <tr>\n",
       "      <th>1</th>\n",
       "      <td>4</td>\n",
       "      <td>12.0</td>\n",
       "      <td>66</td>\n",
       "      <td>[-0.8985, -18.5079, -2.6169, -17.7898, -2.3493...</td>\n",
       "    </tr>\n",
       "    <tr>\n",
       "      <th>2</th>\n",
       "      <td>6</td>\n",
       "      <td>12.0</td>\n",
       "      <td>82</td>\n",
       "      <td>[-1.3030, -18.0414, 2.3252, -15.7817, -2.5416,...</td>\n",
       "    </tr>\n",
       "    <tr>\n",
       "      <th>3</th>\n",
       "      <td>10</td>\n",
       "      <td>12.0</td>\n",
       "      <td>22</td>\n",
       "      <td>[-4.8202, -21.3358, 2.5580, -17.7112, -2.2108,...</td>\n",
       "    </tr>\n",
       "    <tr>\n",
       "      <th>4</th>\n",
       "      <td>2</td>\n",
       "      <td>18.0</td>\n",
       "      <td>49</td>\n",
       "      <td>[-7.1651, -17.9050, -0.9162, -14.4933, -1.5372...</td>\n",
       "    </tr>\n",
       "  </tbody>\n",
       "</table>\n",
       "</div>"
      ],
      "text/plain": [
       "   index  lambda  num_iter                                               mean\n",
       "0      0    12.0        31  [-4.2768, -21.9073, -2.0103, -19.9968, -2.5976...\n",
       "1      4    12.0        66  [-0.8985, -18.5079, -2.6169, -17.7898, -2.3493...\n",
       "2      6    12.0        82  [-1.3030, -18.0414, 2.3252, -15.7817, -2.5416,...\n",
       "3     10    12.0        22  [-4.8202, -21.3358, 2.5580, -17.7112, -2.2108,...\n",
       "4      2    18.0        49  [-7.1651, -17.9050, -0.9162, -14.4933, -1.5372..."
      ]
     },
     "execution_count": 20,
     "metadata": {},
     "output_type": "execute_result"
    }
   ],
   "source": [
    "df = pd.read_csv(r\"/Users/paopao_ch/Documents/projects/v1_modelling/Mouse-V1-Pytorch/data/finding_lambda.csv\", sep=\"|\")\n",
    "df = df.sort_values(\"lambda\")\n",
    "cols = ['lambda']\n",
    "df[cols] = df[df[cols] < 48][cols]\n",
    "df = df.dropna()\n",
    "df = df[[\"lambda\",\"num_iter\",\"mean\"]].reset_index()\n",
    "df.head()"
   ]
  },
  {
   "cell_type": "code",
   "execution_count": 31,
   "metadata": {},
   "outputs": [],
   "source": [
    "lambdas = df[\"lambda\"].unique()\n",
    "for lambda_ in lambdas:\n",
    "    curent_means = df[df[\"lambda\"] == lambda_][\"mean\"].reset_index(drop=True).to_dict()\n",
    "    "
   ]
  },
  {
   "cell_type": "code",
   "execution_count": 37,
   "metadata": {},
   "outputs": [
    {
     "name": "stdout",
     "output_type": "stream",
     "text": [
      "[-4.9123, -19.0765, 1.0564, -18.7916, -2.132, 5.0352, -3.3736, 4.4416, -132.9763, -135.3037, -133.967, -119.917]\n",
      "[-3.6276, -18.1008, 0.6265, -16.903, -1.9498, 7.1188, -2.8061, 5.9496, -132.1848, -133.3412, -135.6932, -161.8084]\n",
      "[-2.4814, -17.8025, 2.8076, -17.3774, -1.7155, 5.93, -2.8057, 5.8774, -136.8175, -137.1566, -138.1623, -152.392]\n",
      "[-4.1629, -18.6211, 2.3306, -17.5392, -1.6719, 6.7402, -3.0724, 6.0538, -151.8353, -123.3364, -146.268, -151.8975]\n"
     ]
    }
   ],
   "source": [
    "for elem in curent_means:\n",
    "    print(np.array(ast.literal_eval(curent_means[elem])))"
   ]
  },
  {
   "cell_type": "code",
   "execution_count": null,
   "metadata": {},
   "outputs": [],
   "source": []
  }
 ],
 "metadata": {
  "kernelspec": {
   "display_name": "base",
   "language": "python",
   "name": "python3"
  },
  "language_info": {
   "codemirror_mode": {
    "name": "ipython",
    "version": 3
   },
   "file_extension": ".py",
   "mimetype": "text/x-python",
   "name": "python",
   "nbconvert_exporter": "python",
   "pygments_lexer": "ipython3",
   "version": "3.11.3"
  }
 },
 "nbformat": 4,
 "nbformat_minor": 2
}
